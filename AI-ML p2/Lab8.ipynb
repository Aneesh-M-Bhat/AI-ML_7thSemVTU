{
 "cells": [
  {
   "cell_type": "code",
   "execution_count": 11,
   "id": "6581c6f7",
   "metadata": {},
   "outputs": [
    {
     "name": "stdout",
     "output_type": "stream",
     "text": [
      "Iris Data set loaded...\n",
      "Dataset is split into training and testing samples...\n",
      "Size of trainng data and its label (135, 4) (135,)\n",
      "Size of testing data and its label (15, 4) (15,)\n",
      "Label 0 - setosa\n",
      "Label 1 - versicolor\n",
      "Label 2 - virginica\n",
      "Results of Classification using K-nn with K=1 \n",
      " Sample: [6.  2.2 4.  1. ]  Actual-label: 1  Predicted-label: 1\n",
      " Sample: [4.3 3.  1.1 0.1]  Actual-label: 0  Predicted-label: 0\n",
      " Sample: [6.4 2.8 5.6 2.2]  Actual-label: 2  Predicted-label: 2\n",
      " Sample: [5.2 4.1 1.5 0.1]  Actual-label: 0  Predicted-label: 0\n",
      " Sample: [5.9 3.2 4.8 1.8]  Actual-label: 1  Predicted-label: 2\n",
      " Sample: [5.1 2.5 3.  1.1]  Actual-label: 1  Predicted-label: 1\n",
      " Sample: [5.5 2.4 3.8 1.1]  Actual-label: 1  Predicted-label: 1\n",
      " Sample: [6.3 2.3 4.4 1.3]  Actual-label: 1  Predicted-label: 1\n",
      " Sample: [6.9 3.1 5.4 2.1]  Actual-label: 2  Predicted-label: 2\n",
      " Sample: [7.7 2.8 6.7 2. ]  Actual-label: 2  Predicted-label: 2\n",
      " Sample: [7.7 3.  6.1 2.3]  Actual-label: 2  Predicted-label: 2\n",
      " Sample: [6.2 2.8 4.8 1.8]  Actual-label: 2  Predicted-label: 2\n",
      " Sample: [5.7 3.8 1.7 0.3]  Actual-label: 0  Predicted-label: 0\n",
      " Sample: [6.5 2.8 4.6 1.5]  Actual-label: 1  Predicted-label: 1\n",
      " Sample: [5.6 3.  4.5 1.5]  Actual-label: 1  Predicted-label: 1\n",
      "Classification Accuracy : 0.9333333333333333\n"
     ]
    }
   ],
   "source": [
    "from sklearn.model_selection import train_test_split\n",
    "from sklearn.neighbors import KNeighborsClassifier \n",
    "from sklearn import datasets\n",
    "\n",
    "iris=datasets.load_iris() \n",
    "print(\"Iris Data set loaded...\")\n",
    "#print(iris.data)\n",
    "#print(iris.target)\n",
    "x_train, x_test, y_train, y_test = train_test_split(iris.data,iris.target,test_size=0.1)\n",
    "#random_state=0\n",
    "print(\"Dataset is split into training and testing samples...\") \n",
    "print(\"Size of trainng data and its label\",x_train.shape,y_train.shape) \n",
    "print(\"Size of testing data and its label\",x_test.shape, y_test.shape) \n",
    "for i in range(len(iris.target_names)):\n",
    "    print(\"Label\", i , \"-\",str(iris.target_names[i])) \n",
    "classifier = KNeighborsClassifier(n_neighbors=1)\n",
    "classifier.fit(x_train, y_train)\n",
    "y_pred=classifier.predict(x_test)\\\n",
    "print(\"Results of Classification using K-nn with K=1 \") \n",
    "for r in range(0,len(x_test)):\n",
    "    print(\" Sample:\", str(x_test[r]), \" Actual-label:\", str(y_test[r]),\" Predicted-label:\", str(y_pred[r]))\n",
    "\n",
    "print(\"Classification Accuracy :\" , classifier.score(x_test,y_test));"
   ]
  },
  {
   "cell_type": "code",
   "execution_count": null,
   "id": "da5f9899",
   "metadata": {},
   "outputs": [],
   "source": []
  },
  {
   "cell_type": "code",
   "execution_count": null,
   "id": "7bc10a4f",
   "metadata": {},
   "outputs": [],
   "source": []
  }
 ],
 "metadata": {
  "kernelspec": {
   "display_name": "Python 3",
   "language": "python",
   "name": "python3"
  },
  "language_info": {
   "codemirror_mode": {
    "name": "ipython",
    "version": 3
   },
   "file_extension": ".py",
   "mimetype": "text/x-python",
   "name": "python",
   "nbconvert_exporter": "python",
   "pygments_lexer": "ipython3",
   "version": "3.10.5 (tags/v3.10.5:f377153, Jun  6 2022, 16:14:13) [MSC v.1929 64 bit (AMD64)]"
  },
  "vscode": {
   "interpreter": {
    "hash": "369f2c481f4da34e4445cda3fffd2e751bd1c4d706f27375911949ba6bb62e1c"
   }
  }
 },
 "nbformat": 4,
 "nbformat_minor": 5
}

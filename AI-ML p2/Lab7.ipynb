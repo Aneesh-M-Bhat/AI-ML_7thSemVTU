{
 "cells": [
  {
   "cell_type": "code",
   "execution_count": 1,
   "id": "29a7151d",
   "metadata": {},
   "outputs": [
    {
     "ename": "ModuleNotFoundError",
     "evalue": "No module named 'sklearn'",
     "output_type": "error",
     "traceback": [
      "\u001b[1;31m---------------------------------------------------------------------------\u001b[0m",
      "\u001b[1;31mModuleNotFoundError\u001b[0m                       Traceback (most recent call last)",
      "Cell \u001b[1;32mIn[1], line 2\u001b[0m\n\u001b[0;32m      1\u001b[0m \u001b[39mimport\u001b[39;00m \u001b[39mmatplotlib\u001b[39;00m\u001b[39m.\u001b[39;00m\u001b[39mpyplot\u001b[39;00m \u001b[39mas\u001b[39;00m \u001b[39mplt\u001b[39;00m \n\u001b[1;32m----> 2\u001b[0m \u001b[39mfrom\u001b[39;00m \u001b[39msklearn\u001b[39;00m\u001b[39m.\u001b[39;00m\u001b[39mcluster\u001b[39;00m \u001b[39mimport\u001b[39;00m KMeans \n\u001b[0;32m      3\u001b[0m \u001b[39mfrom\u001b[39;00m \u001b[39msklearn\u001b[39;00m \u001b[39mimport\u001b[39;00m preprocessing\n\u001b[0;32m      4\u001b[0m \u001b[39mfrom\u001b[39;00m \u001b[39msklearn\u001b[39;00m\u001b[39m.\u001b[39;00m\u001b[39mmixture\u001b[39;00m \u001b[39mimport\u001b[39;00m GaussianMixture\n",
      "\u001b[1;31mModuleNotFoundError\u001b[0m: No module named 'sklearn'"
     ]
    }
   ],
   "source": [
    "import matplotlib.pyplot as plt \n",
    "from sklearn.cluster import KMeans \n",
    "from sklearn import preprocessing\n",
    "from sklearn.mixture import GaussianMixture\n",
    "import sklearn.metrics as sm\n",
    "import pandas as pd\n",
    "import numpy as np #%matplotlib inline # Load the iris dataset\n",
    "iris_dataset = pd.read_csv('iris.csv')\n",
    "iris_dataset['Targets'] = iris_dataset.Class.map({'Iris-setosa':0, 'Iris-versicolor':1, 'Iris-virginica':2})\n",
    "X = iris_dataset[['Sepal_Length', 'Sepal_Width', 'Petal_Length', 'Petal_Width' ] ]\n",
    "Y = iris_dataset[['Targets']]\n",
    "#print(Y)\n",
    "\n",
    "#Build K-Means Model\n",
    "model = KMeans(n_clusters = 3)\n",
    "model.fit(X)\n",
    "print('Model Labels:\\n', model.labels_ )\n",
    "\n",
    "#Build GMM for EM algorithm\n",
    "scaler = preprocessing.StandardScaler() \n",
    "scaler.fit(X)\n",
    "xs = scaler.transform(X)\n",
    "gmm = GaussianMixture(n_components = 3)\n",
    "gmm.fit(xs)\n",
    "Y_gmm = gmm.predict(xs)  \n",
    "print('GMM Labels:\\n', Y_gmm) #Visualize the clustering results\n",
    "# To View the results set the size of the plot \n",
    "plt.figure(figsize = (10, 10))\n",
    "# Create a colormap\n",
    "colormap = np.array(['red', 'lime', 'black']) # Plot Orginal using Petal features\n",
    "plt.subplot(2, 2, 1)\n",
    "plt.scatter(X.Petal_Length,X.Petal_Width, c = colormap[Y.Targets], s=40)\n",
    "plt.title('Real Classification') \n",
    "plt.xlabel('Petal Length') \n",
    "plt.ylabel('Petal Width')\n",
    "# Plot the K-Means model classifications\n",
    "plt.subplot(2, 2, 2)\n",
    "plt.scatter(X.Petal_Length,X.Petal_Width, c = colormap[model.labels_], s=40)\n",
    "plt.title('K Means Clustering')\n",
    "plt.xlabel('Petal Length') \n",
    "plt.ylabel('Petal Width')\n",
    "#Plot the GMM Model classification\n",
    "plt.subplot(2, 2, 3)\n",
    "plt.scatter(X.Petal_Length, X.Petal_Width, c = colormap[Y_gmm], s=40)\n",
    "plt.title('GMM Based Clustering')\n",
    "plt.xlabel('Petal Length') \n",
    "plt.ylabel('Petal Width')\n",
    "#Calculate performance metrics for K-Means and GMM\n",
    "print('Evaluation of K-Means with ground truth classification of Iris Dataset') \n",
    "print('Rand Index:%f ' % sm.adjusted_rand_score(Y.Targets, model.labels_ )) \n",
    "print('Homogenity Score:%f ' % sm.homogeneity_score(Y.Targets, model.labels_ ))\n",
    "print('Completeness Score:%f ' % sm.completeness_score(Y.Targets, model.labels_ ))\n",
    "print('V-Measure:%f ' % sm.v_measure_score(Y.Targets, model.labels_ ))\n",
    "print('Evaluation of GMM with ground truth classification of Iris Dataset') \n",
    "print('Rand Index:%f ' % sm.adjusted_rand_score(Y.Targets, Y_gmm)) \n",
    "print('Homogenity Score:%f ' % sm.homogeneity_score(Y.Targets, Y_gmm)) \n",
    "print('Completeness Score:%f ' % sm.completeness_score(Y.Targets, Y_gmm)) \n",
    "print('V-Measure:%f ' % sm.v_measure_score(Y.Targets, Y_gmm))"
   ]
  },
  {
   "cell_type": "code",
   "execution_count": 5,
   "id": "ada9a376",
   "metadata": {},
   "outputs": [
    {
     "name": "stdout",
     "output_type": "stream",
     "text": [
      "Requirement already satisfied: pip in c:\\python310\\lib\\site-packages (22.0.4)\n",
      "Collecting pip\n",
      "  Downloading pip-22.3.1-py3-none-any.whl (2.1 MB)\n",
      "     ---------------------------------------- 2.1/2.1 MB 1.4 MB/s eta 0:00:00\n",
      "Installing collected packages: pip\n",
      "  Attempting uninstall: pip\n",
      "    Found existing installation: pip 22.0.4\n",
      "    Uninstalling pip-22.0.4:\n",
      "Note: you may need to restart the kernel to use updated packages.\n"
     ]
    },
    {
     "name": "stderr",
     "output_type": "stream",
     "text": [
      "ERROR: Could not install packages due to an OSError: [WinError 5] Access is denied: 'c:\\\\python310\\\\lib\\\\site-packages\\\\pip-22.0.4.dist-info\\\\entry_points.txt'\n",
      "Consider using the `--user` option or check the permissions.\n",
      "\n",
      "WARNING: You are using pip version 22.0.4; however, version 22.3.1 is available.\n",
      "You should consider upgrading via the 'c:\\Python310\\python.exe -m pip install --upgrade pip' command.\n"
     ]
    }
   ],
   "source": [
    "pip install --upgrade pip"
   ]
  },
  {
   "cell_type": "code",
   "execution_count": null,
   "id": "7a7617c5",
   "metadata": {},
   "outputs": [],
   "source": [
    "pip install matplotlib"
   ]
  },
  {
   "cell_type": "code",
   "execution_count": 2,
   "id": "5d4899cf",
   "metadata": {},
   "outputs": [
    {
     "name": "stdout",
     "output_type": "stream",
     "text": [
      "Collecting sklearn\n",
      "  Downloading sklearn-0.0.post1.tar.gz (3.6 kB)\n",
      "  Preparing metadata (setup.py): started\n",
      "  Preparing metadata (setup.py): finished with status 'done'\n",
      "Using legacy 'setup.py install' for sklearn, since package 'wheel' is not installed.\n",
      "Installing collected packages: sklearn\n",
      "  Running setup.py install for sklearn: started\n",
      "  Running setup.py install for sklearn: finished with status 'done'\n",
      "Successfully installed sklearn-0.0.post1\n",
      "Note: you may need to restart the kernel to use updated packages.\n"
     ]
    },
    {
     "name": "stderr",
     "output_type": "stream",
     "text": [
      "WARNING: You are using pip version 22.0.4; however, version 22.3.1 is available.\n",
      "You should consider upgrading via the 'c:\\Python310\\python.exe -m pip install --upgrade pip' command.\n"
     ]
    }
   ],
   "source": [
    "pip install sklearn"
   ]
  }
 ],
 "metadata": {
  "kernelspec": {
   "display_name": "Python 3",
   "language": "python",
   "name": "python3"
  },
  "language_info": {
   "codemirror_mode": {
    "name": "ipython",
    "version": 3
   },
   "file_extension": ".py",
   "mimetype": "text/x-python",
   "name": "python",
   "nbconvert_exporter": "python",
   "pygments_lexer": "ipython3",
   "version": "3.10.5 (tags/v3.10.5:f377153, Jun  6 2022, 16:14:13) [MSC v.1929 64 bit (AMD64)]"
  },
  "vscode": {
   "interpreter": {
    "hash": "369f2c481f4da34e4445cda3fffd2e751bd1c4d706f27375911949ba6bb62e1c"
   }
  }
 },
 "nbformat": 4,
 "nbformat_minor": 5
}

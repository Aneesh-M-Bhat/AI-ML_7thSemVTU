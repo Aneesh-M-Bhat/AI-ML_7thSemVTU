{
 "cells": [
  {
   "cell_type": "code",
   "execution_count": 1,
   "metadata": {},
   "outputs": [
    {
     "ename": "ModuleNotFoundError",
     "evalue": "No module named 'matplotlib'",
     "output_type": "error",
     "traceback": [
      "\u001b[1;31m---------------------------------------------------------------------------\u001b[0m",
      "\u001b[1;31mModuleNotFoundError\u001b[0m                       Traceback (most recent call last)",
      "Cell \u001b[1;32mIn[1], line 1\u001b[0m\n\u001b[1;32m----> 1\u001b[0m \u001b[39mimport\u001b[39;00m \u001b[39mmatplotlib\u001b[39;00m\u001b[39m.\u001b[39;00m\u001b[39mpyplot\u001b[39;00m \u001b[39mas\u001b[39;00m \u001b[39mplt\u001b[39;00m \n\u001b[0;32m      2\u001b[0m \u001b[39mimport\u001b[39;00m \u001b[39mpandas\u001b[39;00m \u001b[39mas\u001b[39;00m \u001b[39mpd\u001b[39;00m \n\u001b[0;32m      3\u001b[0m \u001b[39mimport\u001b[39;00m \u001b[39mnumpy\u001b[39;00m \u001b[39mas\u001b[39;00m \u001b[39mnp\u001b[39;00m \n",
      "\u001b[1;31mModuleNotFoundError\u001b[0m: No module named 'matplotlib'"
     ]
    }
   ],
   "source": [
    "import matplotlib.pyplot as plt \n",
    "import pandas as pd \n",
    "import numpy as np \n",
    "def kernel(point, xmat, k): \n",
    "    m, n = np.shape(xmat) \n",
    "    weights = np.mat(np.eye((m))) \n",
    "    for j in range(m): \n",
    "        diff = point - X[j] \n",
    "        weights[j, j] = np.exp(diff*diff.T/(-2.0*k**2)) \n",
    "    return weights \n",
    "\n",
    "def localWeight(point, xmat, ymat, k):\n",
    "    wei = kernel(point,xmat,k) \n",
    "    W = (X.T*(wei*X)).I*(X.T*(wei*ymat.T)) \n",
    "    return W \n",
    "    \n",
    "def localWeightRegression(xmat, ymat, k): \n",
    "    m, n = np.shape(xmat) \n",
    "    ypred = np.zeros(m) \n",
    "    for i in range(m): \n",
    "        ypred[i] = xmat[i]*localWeight(xmat[i], xmat, ymat, k) \n",
    "    return ypred \n",
    "    \n",
    "def graphPlot(X, ypred): \n",
    "    sortindex = X[:,1].argsort(0) \n",
    "    xsort = X[sortindex][:,0] \n",
    "    fig = plt.figure() \n",
    "    ax = fig.add_subplot(1,1,1) \n",
    "    ax.scatter(bill,tip, color='green') \n",
    "    ax.plot(xsort[:,1],ypred[sortindex], color = 'red', linewidth=5) \n",
    "    plt.xlabel('Total bill') \n",
    "    plt.ylabel('Tip') \n",
    "    plt.show() \n",
    "\n",
    "data = pd.read_csv('Tips.csv') \n",
    "bill = np.array(data.total_bill) \n",
    "tip = np.array(data.tip) \n",
    "mbill = np.mat(bill)\n",
    "mtip = np.mat(tip) \n",
    "m= np.shape(mbill)[1] \n",
    "one = np.mat(np.ones(m)) \n",
    "X = np.hstack((one.T, mbill.T)) \n",
    "print('\\nypred for k=3') \n",
    "ypred = localWeightRegression(X,mtip,3) \n",
    "graphPlot(X, ypred) \n",
    "print('\\nypred for k=9') \n",
    "ypred = localWeightRegression(X, mtip, 9) \n",
    "graphPlot(X, ypred)"
   ]
  }
 ],
 "metadata": {
  "kernelspec": {
   "display_name": "Python 3",
   "language": "python",
   "name": "python3"
  },
  "language_info": {
   "codemirror_mode": {
    "name": "ipython",
    "version": 3
   },
   "file_extension": ".py",
   "mimetype": "text/x-python",
   "name": "python",
   "nbconvert_exporter": "python",
   "pygments_lexer": "ipython3",
   "version": "3.10.5 (tags/v3.10.5:f377153, Jun  6 2022, 16:14:13) [MSC v.1929 64 bit (AMD64)]"
  },
  "orig_nbformat": 4,
  "vscode": {
   "interpreter": {
    "hash": "369f2c481f4da34e4445cda3fffd2e751bd1c4d706f27375911949ba6bb62e1c"
   }
  }
 },
 "nbformat": 4,
 "nbformat_minor": 2
}

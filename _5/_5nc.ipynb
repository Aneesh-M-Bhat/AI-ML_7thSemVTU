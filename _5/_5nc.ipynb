{
 "cells": [
  {
   "cell_type": "code",
   "execution_count": 22,
   "id": "3e8389ab",
   "metadata": {},
   "outputs": [
    {
     "name": "stdout",
     "output_type": "stream",
     "text": [
      "Input: \n",
      "[[0.66666667 1.        ]\n",
      " [0.33333333 0.55555556]\n",
      " [1.         0.66666667]]\n",
      "Actual Output: \n",
      "[[0.92]\n",
      " [0.86]\n",
      " [0.89]]\n",
      "Predicted Output: \n",
      " [[0.8867255 ]\n",
      " [0.86991829]\n",
      " [0.88564963]]\n"
     ]
    }
   ],
   "source": [
    "import numpy as np\n",
    "X = np.array(([2, 9], [1, 5], [3, 6]), dtype=float)\n",
    "Y = np.array(([92], [86], [89]), dtype=float)\n",
    "X = X/np.amax(X,axis=0) \n",
    "Y = Y/100\n",
    "\n",
    "def sigmoid (x):\n",
    "    return 1/(1 + np.exp(-x))\n",
    "\n",
    "def derivative(x):\n",
    "    return x * (1 - x)\n",
    "\n",
    "epoch=5000 \t\n",
    "lr=0.1 \t\t\n",
    "input = 2 \t\t\n",
    "hidden = 3 \t\n",
    "output = 1 \t\t\n",
    "\n",
    "wh=np.random.uniform(size=(input,hidden))\n",
    "bh=np.random.uniform(size=(1,hidden))\n",
    "wout=np.random.uniform(size=(hidden,output))\n",
    "bout=np.random.uniform(size=(1,output))\n",
    "\n",
    "for i in range(epoch):\n",
    "    act = sigmoid(np.dot(X,wh)+bh)\n",
    "    output = sigmoid(np.dot(act,wout)+bout)\n",
    "\n",
    "    EO = Y-output \n",
    "    doutput = EO * derivative(output)\n",
    "    EH = doutput.dot(wout.T)\n",
    "    dhidden = EH * derivative(act)\n",
    "\n",
    "print(\"Input: \\n\" + str(X)) \n",
    "print(\"Actual Output: \\n\" + str(Y))\n",
    "print(\"Predicted Output: \\n\" ,output)"
   ]
  },
  {
   "cell_type": "code",
   "execution_count": null,
   "id": "ee3118d2",
   "metadata": {},
   "outputs": [],
   "source": []
  }
 ],
 "metadata": {
  "kernelspec": {
   "display_name": "Python 3.10.5 64-bit",
   "language": "python",
   "name": "python3"
  },
  "language_info": {
   "codemirror_mode": {
    "name": "ipython",
    "version": 3
   },
   "file_extension": ".py",
   "mimetype": "text/x-python",
   "name": "python",
   "nbconvert_exporter": "python",
   "pygments_lexer": "ipython3",
   "version": "3.10.5 (tags/v3.10.5:f377153, Jun  6 2022, 16:14:13) [MSC v.1929 64 bit (AMD64)]"
  },
  "vscode": {
   "interpreter": {
    "hash": "369f2c481f4da34e4445cda3fffd2e751bd1c4d706f27375911949ba6bb62e1c"
   }
  }
 },
 "nbformat": 4,
 "nbformat_minor": 5
}

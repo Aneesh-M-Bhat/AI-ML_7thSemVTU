{
 "cells": [
  {
   "cell_type": "code",
   "execution_count": 3,
   "id": "7d2e93e9",
   "metadata": {},
   "outputs": [
    {
     "name": "stdout",
     "output_type": "stream",
     "text": [
      "Specific ['0', '0', '0', '0', '0', '0']\n",
      "General  ['?', '?', '?', '?', '?', '?']\n",
      "\n",
      "Specific ['Sunny' 'Warm' 'Normal' 'Strong' 'Warm' 'Same']\n",
      "General  [['?', '?', '?', '?', '?', '?'], ['?', '?', '?', '?', '?', '?'], ['?', '?', '?', '?', '?', '?'], ['?', '?', '?', '?', '?', '?'], ['?', '?', '?', '?', '?', '?'], ['?', '?', '?', '?', '?', '?']]\n",
      "\n",
      "Specific ['Sunny' 'Warm' '?' 'Strong' 'Warm' 'Same']\n",
      "General  [['?', '?', '?', '?', '?', '?'], ['?', '?', '?', '?', '?', '?'], ['?', '?', '?', '?', '?', '?'], ['?', '?', '?', '?', '?', '?'], ['?', '?', '?', '?', '?', '?'], ['?', '?', '?', '?', '?', '?']]\n",
      "\n",
      "Specific ['Sunny' 'Warm' '?' 'Strong' 'Warm' 'Same']\n",
      "General  [['Sunny', '?', '?', '?', '?', '?'], ['?', 'Warm', '?', '?', '?', '?'], ['?', '?', '?', '?', '?', '?'], ['?', '?', '?', '?', '?', '?'], ['?', '?', '?', '?', '?', '?'], ['?', '?', '?', '?', '?', 'Same']]\n",
      "\n",
      "Specific ['Sunny' 'Warm' '?' 'Strong' '?' '?']\n",
      "General  [['Sunny', '?', '?', '?', '?', '?'], ['?', 'Warm', '?', '?', '?', '?'], ['?', '?', '?', '?', '?', '?'], ['?', '?', '?', '?', '?', '?'], ['?', '?', '?', '?', '?', '?'], ['?', '?', '?', '?', '?', '?']]\n",
      "\n",
      "Specific ['Sunny' 'Warm' '?' 'Strong' '?' '?']\n",
      "General  [['Sunny', '?', '?', '?', '?', '?'], ['?', 'Warm', '?', '?', '?', '?']]\n",
      "\n"
     ]
    }
   ],
   "source": [
    "import numpy as np\n",
    "import pandas as pd\n",
    "\n",
    "data = pd.DataFrame(data=pd.read_csv('EnjoySport.csv'))\n",
    "concepts = np.array(data.iloc[:,0:-1])\n",
    "target = np.array(data.iloc[:,-1])\n",
    "\n",
    "def printSG(spec,gene):\n",
    "    print(\"Specific\",spec)\n",
    "    print(\"General \",gene)\n",
    "    print()\n",
    "\n",
    "def learn(concepts, target):\n",
    "    l=len(concepts[0])\n",
    "    spech=['0']*l \n",
    "    geneh=['?']*l\n",
    "    printSG(spech,geneh)\n",
    "    spech = concepts[0].copy()\n",
    "    geneh = [[\"?\" for i in range(len(spech))] for i in range(len(spech))]\n",
    "    \n",
    "    for i, h in enumerate(concepts):\n",
    "        if target[i] == \"Yes\":\n",
    "            for x in range(len(spech)):\n",
    "                if h[x] != spech[x]:\n",
    "                    spech[x] = '?'\n",
    "                    geneh[x][x] = '?'\n",
    "        else:\n",
    "            for x in range(len(spech)):\n",
    "                if h[x] != spech[x]:\n",
    "                    geneh[x][x] = spech[x]\n",
    "                else:\n",
    "                    geneh[x][x] = '?'\n",
    "        printSG(spech,geneh)\n",
    "\n",
    "    indices = [i for i, val in enumerate(geneh) if val == ['?', '?', '?', '?', '?', '?']]\n",
    "    for i in indices:\n",
    "        geneh.remove(['?', '?', '?', '?', '?', '?'])\n",
    "\n",
    "    printSG(spech,geneh)\n",
    "\n",
    "learn(concepts, target)"
   ]
  },
  {
   "cell_type": "code",
   "execution_count": null,
   "id": "9ef63b6b",
   "metadata": {},
   "outputs": [],
   "source": []
  }
 ],
 "metadata": {
  "kernelspec": {
   "display_name": "Python 3.10.5 64-bit",
   "language": "python",
   "name": "python3"
  },
  "language_info": {
   "codemirror_mode": {
    "name": "ipython",
    "version": 3
   },
   "file_extension": ".py",
   "mimetype": "text/x-python",
   "name": "python",
   "nbconvert_exporter": "python",
   "pygments_lexer": "ipython3",
   "version": "3.10.5"
  },
  "vscode": {
   "interpreter": {
    "hash": "369f2c481f4da34e4445cda3fffd2e751bd1c4d706f27375911949ba6bb62e1c"
   }
  }
 },
 "nbformat": 4,
 "nbformat_minor": 5
}
